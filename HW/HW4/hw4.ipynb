{
 "cells": [
  {
   "cell_type": "code",
   "execution_count": 1,
   "metadata": {},
   "outputs": [
    {
     "name": "stderr",
     "output_type": "stream",
     "text": [
      "F:\\Program Files\\anaconda\\envs\\gg\\lib\\site-packages\\numpy\\_distributor_init.py:32: UserWarning: loaded more than 1 DLL from .libs:\n",
      "F:\\Program Files\\anaconda\\envs\\gg\\lib\\site-packages\\numpy\\.libs\\libopenblas.PYQHXLVVQ7VESDPUVUADXEVJOBGHJPAY.gfortran-win_amd64.dll\n",
      "F:\\Program Files\\anaconda\\envs\\gg\\lib\\site-packages\\numpy\\.libs\\libopenblas.TXA6YQSD3GCQQC22GEQ54J2UDCXDXHWN.gfortran-win_amd64.dll\n",
      "  stacklevel=1)\n"
     ]
    }
   ],
   "source": [
    "%matplotlib inline\n",
    "import numpy as np\n",
    "import matplotlib.pyplot as plt"
   ]
  },
  {
   "cell_type": "code",
   "execution_count": 2,
   "metadata": {},
   "outputs": [
    {
     "name": "stdout",
     "output_type": "stream",
     "text": [
      "mae: 0.11666666666666665\n",
      "mse: 0.06458333333333334\n",
      "cross-entropy: 0.6237125052354483\n",
      "focal_loss: 0.3141139775830326\n"
     ]
    }
   ],
   "source": [
    "epsilon=1e-10\n",
    "predict1=np.array([[4,3,3],\n",
    "                   [3,4,3],\n",
    "                   [5,2,3],\n",
    "                   [6,2,2],\n",
    "                   ])/10\n",
    "\n",
    "predict2=np.array([[8,1,1],\n",
    "                   [1,7,2],\n",
    "                   [7,1,2],\n",
    "                   [4,3,3],\n",
    "                   ])/10\n",
    "ans=np.array([[1,0,0],\n",
    "                   [0,1,0],\n",
    "                   [1,0,0],\n",
    "                   [0,1,1],\n",
    "                   ])\n",
    "def mse(ans,pred):\n",
    "    return((ans-pred)**2).mean().sum()/ans.shape[0]\n",
    "def mae(ans,pred):\n",
    "    return(np.abs(ans-pred)).mean().sum()/ans.shape[0]\n",
    "def ce(ans,pred):\n",
    "    return-((ans*np.log10(pred+epsilon))).sum()/ans.shape[0]\n",
    "def focal_loss(ans,pred):\n",
    "    gamma=2.\n",
    "    alpha=1\n",
    "    return -(alpha *ans*((1-pred)**gamma)*np.log10(pred+epsilon)).sum()/ans.shape[0]\n",
    "print(\"mae:\",mae(ans,predict1))\n",
    "print(\"mse:\",mse(ans,predict1))\n",
    "print(\"cross-entropy:\",ce(ans,predict1))\n",
    "print(\"focal_loss:\",focal_loss(ans,predict1))"
   ]
  },
  {
   "cell_type": "code",
   "execution_count": 3,
   "metadata": {},
   "outputs": [
    {
     "name": "stdout",
     "output_type": "stream",
     "text": [
      "mae: 0.07083333333333335\n",
      "mse: 0.030833333333333334\n",
      "cross-entropy: 0.3631178557680793\n",
      "focal_loss: 0.13604498088431954\n"
     ]
    }
   ],
   "source": [
    "print(\"mae:\",mae(ans,predict2))\n",
    "print(\"mse:\",mse(ans,predict2))\n",
    "print(\"cross-entropy:\",ce(ans,predict2))\n",
    "print(\"focal_loss:\",focal_loss(ans,predict2))"
   ]
  },
  {
   "cell_type": "code",
   "execution_count": 4,
   "metadata": {},
   "outputs": [
    {
     "data": {
      "text/plain": [
       "Text(0.5, 1.0, 'focal_loss')"
      ]
     },
     "execution_count": 4,
     "metadata": {},
     "output_type": "execute_result"
    },
    {
     "data": {
      "image/png": "[encoded data removed]",
      "text/plain": [
       "<Figure size 432x288 with 1 Axes>"
      ]
     },
     "metadata": {
      "needs_background": "light"
     },
     "output_type": "display_data"
    }
   ],
   "source": [
    "focallog=[]\n",
    "celog=[]\n",
    "for i in range(100):\n",
    "    focallog.append(focal_loss(np.array([[1,0]]),np.array([[i/100+0.01,1-i/100]])))\n",
    "    celog.append(ce(np.array([[1,0]]),np.array([[i/100+0.01,1-i/100]])))\n",
    "    \n",
    "plt.plot(np.arange(100)/100,focallog,label='focal_loss')\n",
    "plt.plot(np.arange(100)/100,celog,label='cross-entropy')\n",
    "plt.legend()\n",
    "plt.title(\"focal_loss\")"
   ]
  },
  {
   "cell_type": "code",
   "execution_count": null,
   "metadata": {},
   "outputs": [],
   "source": []
  }
 ],
 "metadata": {
  "kernelspec": {
   "display_name": "Python 3",
   "language": "python",
   "name": "python3"
  },
  "language_info": {
   "codemirror_mode": {
    "name": "ipython",
    "version": 3
   },
   "file_extension": ".py",
   "mimetype": "text/x-python",
   "name": "python",
   "nbconvert_exporter": "python",
   "pygments_lexer": "ipython3",
   "version": "3.6.9"
  }
 },
 "nbformat": 4,
 "nbformat_minor": 2
}
