{
 "cells": [
  {
   "cell_type": "code",
   "execution_count": 2,
   "metadata": {},
   "outputs": [
    {
     "data": {
      "image/png": "[encoded data removed]",
      "text/plain": [
       "<Figure size 432x288 with 1 Axes>"
      ]
     },
     "metadata": {},
     "output_type": "display_data"
    }
   ],
   "source": [
    "%matplotlib inline\n",
    "\n",
    "import networkx as nx\n",
    "\n",
    "\n",
    "import numpy as np\n",
    "\n",
    "\n",
    "gg=[[1,2,3],[4,5,6]]\n",
    "\n",
    "\n",
    "G = nx.Graph()\n",
    "G.add_edge(1, 2)\n",
    "G.add_edge(2, 3)\n",
    "G.add_edge(3, 1)\n",
    "G.add_edge(1, 4)\n",
    "G.add_edge(4, 5)\n",
    "G.add_edge(5, 6)\n",
    "G.add_edge(4, 6)\n",
    "nx.draw(G, pos=nx.spring_layout(G))"
   ]
  },
  {
   "cell_type": "code",
   "execution_count": 3,
   "metadata": {},
   "outputs": [
    {
     "name": "stdout",
     "output_type": "stream",
     "text": [
      "0.0\n"
     ]
    }
   ],
   "source": [
    "def modu(gg):\n",
    "    nm=len(gg)\n",
    "    \n",
    "    G = nx.Graph()\n",
    "    G.add_edge(1, 2)\n",
    "    G.add_edge(2, 3)\n",
    "    G.add_edge(3, 1)\n",
    "    G.add_edge(1, 4)\n",
    "    G.add_edge(4, 5)\n",
    "    G.add_edge(5, 6)\n",
    "    G.add_edge(4, 6)\n",
    "    l=7\n",
    "    q=0\n",
    "    for i in range(nm):\n",
    "         H=G.subgraph(gg[i])\n",
    "         ii=H.number_of_edges()\n",
    "         dd=np.array(list(G.degree(gg[i])))[:,1].sum()\n",
    "         q+=ii/l-(dd/2/l)**2\n",
    "    \n",
    "    \n",
    "    return q\n",
    "\n",
    "\n",
    "print(modu([list(range(1,7))]))"
   ]
  },
  {
   "cell_type": "code",
   "execution_count": 4,
   "metadata": {},
   "outputs": [
    {
     "name": "stdout",
     "output_type": "stream",
     "text": [
      "-0.173469387755102\n",
      "0.03061224489795908\n",
      "0.12244897959183669\n",
      "-0.2551020408163266\n",
      "-0.163265306122449\n",
      "0.03061224489795908\n",
      "-0.08163265306122447\n",
      "-0.08163265306122447\n"
     ]
    }
   ],
   "source": [
    "\n",
    "print(modu([[1],[2],[3],[4],[5],[6]]))\n",
    "print(modu([[1,2,3,6],[4,5]]))\n",
    "print(modu([[1,2,3,4],[5,6]]))\n",
    "print(modu([[1,5],[2,3,4,6]]))\n",
    "print(modu([[1,3,4,6],[2,5]]))\n",
    "print(modu([[3,4,5,6],[2,1]]))\n",
    "print(modu([[2,3,5,6],[1,4]]))\n",
    "print(modu([[2,3,5,6],[1,4]]))"
   ]
  },
  {
   "cell_type": "code",
   "execution_count": null,
   "metadata": {},
   "outputs": [],
   "source": []
  }
 ],
 "metadata": {
  "kernelspec": {
   "display_name": "Python 3",
   "language": "python",
   "name": "python3"
  },
  "language_info": {
   "codemirror_mode": {
    "name": "ipython",
    "version": 3
   },
   "file_extension": ".py",
   "mimetype": "text/x-python",
   "name": "python",
   "nbconvert_exporter": "python",
   "pygments_lexer": "ipython3",
   "version": "3.7.3"
  }
 },
 "nbformat": 4,
 "nbformat_minor": 2
}
